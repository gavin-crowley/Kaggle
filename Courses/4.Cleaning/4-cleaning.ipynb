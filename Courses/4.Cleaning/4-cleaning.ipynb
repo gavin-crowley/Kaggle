{
 "cells": [
  {
   "cell_type": "code",
   "execution_count": 1,
   "source": [
    "#Character Encodings"
   ],
   "outputs": [],
   "metadata": {}
  },
  {
   "cell_type": "code",
   "execution_count": 2,
   "source": [
    "# modules we'll use\r\n",
    "import pandas as pd\r\n",
    "import numpy as np\r\n",
    "\r\n",
    "# helpful character encoding module\r\n",
    "import chardet\r\n",
    "\r\n",
    "# set seed for reproducibility\r\n",
    "np.random.seed(0)"
   ],
   "outputs": [],
   "metadata": {}
  },
  {
   "cell_type": "code",
   "execution_count": 4,
   "source": [
    "#Character encodings are specific sets of rules for mapping from raw binary byte strings (that look like this: 0110100001101001) to characters that make up human-readable text (like \"hi\")."
   ],
   "outputs": [],
   "metadata": {}
  },
  {
   "cell_type": "code",
   "execution_count": null,
   "source": [
    "# There are two main data types you'll encounter when working with text in Python 3. \r\n",
    "# One is is the string, The other data is the bytes data type, which is a sequence of integers"
   ],
   "outputs": [],
   "metadata": {}
  },
  {
   "cell_type": "code",
   "execution_count": 5,
   "source": [
    "# start with a string\r\n",
    "before = \"This is the euro symbol: €\"\r\n",
    "\r\n",
    "# check to see what datatype it is\r\n",
    "type(before)"
   ],
   "outputs": [
    {
     "output_type": "execute_result",
     "data": {
      "text/plain": [
       "str"
      ]
     },
     "metadata": {},
     "execution_count": 5
    }
   ],
   "metadata": {}
  },
  {
   "cell_type": "code",
   "execution_count": 6,
   "source": [
    "# encode it to a different encoding, replacing characters that raise errors\r\n",
    "after = before.encode(\"utf-8\", errors=\"replace\")\r\n",
    "\r\n",
    "# check the type\r\n",
    "type(after)"
   ],
   "outputs": [
    {
     "output_type": "execute_result",
     "data": {
      "text/plain": [
       "bytes"
      ]
     },
     "metadata": {},
     "execution_count": 6
    }
   ],
   "metadata": {}
  },
  {
   "cell_type": "code",
   "execution_count": 7,
   "source": [
    "after"
   ],
   "outputs": [
    {
     "output_type": "execute_result",
     "data": {
      "text/plain": [
       "b'This is the euro symbol: \\xe2\\x82\\xac'"
      ]
     },
     "metadata": {},
     "execution_count": 7
    }
   ],
   "metadata": {}
  },
  {
   "cell_type": "code",
   "execution_count": 8,
   "source": [
    "# convert it back to utf-8\r\n",
    "print(after.decode(\"utf-8\"))"
   ],
   "outputs": [
    {
     "output_type": "stream",
     "name": "stdout",
     "text": [
      "This is the euro symbol: €\n"
     ]
    }
   ],
   "metadata": {}
  },
  {
   "cell_type": "code",
   "execution_count": 11,
   "source": [
    "# start with a string\r\n",
    "before = \"This is the euro symbol: €\"\r\n",
    "\r\n",
    "# encode it to a different encoding, replacing characters that raise errors\r\n",
    "after = before.encode(\"ascii\", errors = \"replace\")\r\n",
    "print(after)\r\n",
    "\r\n",
    "# convert it back to utf-8\r\n",
    "print(after.decode(\"ascii\"))\r\n",
    "\r\n",
    "# We've lost the original underlying byte string! It's been \r\n",
    "# replaced with the underlying byte string for the unknown character :("
   ],
   "outputs": [
    {
     "output_type": "stream",
     "name": "stdout",
     "text": [
      "b'This is the euro symbol: ?'\n",
      "This is the euro symbol: ?\n"
     ]
    }
   ],
   "metadata": {}
  },
  {
   "cell_type": "code",
   "execution_count": null,
   "source": [],
   "outputs": [],
   "metadata": {}
  }
 ],
 "metadata": {
  "orig_nbformat": 4,
  "language_info": {
   "name": "python",
   "version": "3.8.8",
   "mimetype": "text/x-python",
   "codemirror_mode": {
    "name": "ipython",
    "version": 3
   },
   "pygments_lexer": "ipython3",
   "nbconvert_exporter": "python",
   "file_extension": ".py"
  },
  "kernelspec": {
   "name": "python3",
   "display_name": "Python 3.8.8 64-bit ('base': conda)"
  },
  "interpreter": {
   "hash": "a0f9931ccc041a018e08ac3afc72da254cd45458ab2ed488192720cc3e66859a"
  }
 },
 "nbformat": 4,
 "nbformat_minor": 2
}