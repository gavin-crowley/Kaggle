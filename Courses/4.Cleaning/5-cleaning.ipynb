{
 "cells": [
  {
   "cell_type": "code",
   "execution_count": 1,
   "source": [
    "# Inconsistent Data Entry"
   ],
   "outputs": [],
   "metadata": {}
  },
  {
   "cell_type": "code",
   "execution_count": 3,
   "source": [
    "# modules we'll use\r\n",
    "import pandas as pd\r\n",
    "import numpy as np\r\n",
    "\r\n",
    "# helpful modules\r\n",
    "import fuzzywuzzy\r\n",
    "from fuzzywuzzy import process\r\n",
    "import chardet\r\n",
    "\r\n",
    "# read in all our data\r\n",
    "melb = pd.read_csv(\"../../../Datasets/kaggle/melb_data.csv\")\r\n",
    "\r\n",
    "# set seed for reproducibility\r\n",
    "np.random.seed(0)"
   ],
   "outputs": [],
   "metadata": {}
  },
  {
   "cell_type": "code",
   "execution_count": 4,
   "source": [
    "suburbs = melb['Suburb'].unique()"
   ],
   "outputs": [],
   "metadata": {}
  },
  {
   "cell_type": "code",
   "execution_count": 5,
   "source": [
    "# sort them alphabetically and then take a closer look\r\n",
    "suburbs.sort()\r\n",
    "suburbs"
   ],
   "outputs": [
    {
     "output_type": "execute_result",
     "data": {
      "text/plain": [
       "array(['Abbotsford', 'Aberfeldie', 'Airport West', 'Albanvale',\n",
       "       'Albert Park', 'Albion', 'Alphington', 'Altona', 'Altona Meadows',\n",
       "       'Altona North', 'Ardeer', 'Armadale', 'Ascot Vale', 'Ashburton',\n",
       "       'Ashwood', 'Aspendale', 'Aspendale Gardens', 'Attwood',\n",
       "       'Avondale Heights', 'Bacchus Marsh', 'Balaclava', 'Balwyn',\n",
       "       'Balwyn North', 'Bayswater', 'Bayswater North', 'Beaconsfield',\n",
       "       'Beaconsfield Upper', 'Beaumaris', 'Bellfield', 'Bentleigh',\n",
       "       'Bentleigh East', 'Berwick', 'Black Rock', 'Blackburn',\n",
       "       'Blackburn North', 'Blackburn South', 'Bonbeach', 'Boronia',\n",
       "       'Box Hill', 'Braybrook', 'Briar Hill', 'Brighton', 'Brighton East',\n",
       "       'Broadmeadows', 'Brookfield', 'Brooklyn', 'Brunswick',\n",
       "       'Brunswick East', 'Brunswick West', 'Bulleen', 'Bullengarook',\n",
       "       'Bundoora', 'Burnley', 'Burnside', 'Burnside Heights', 'Burwood',\n",
       "       'Burwood East', 'Cairnlea', 'Camberwell', 'Campbellfield',\n",
       "       'Canterbury', 'Carlton', 'Carlton North', 'Carnegie',\n",
       "       'Caroline Springs', 'Carrum', 'Carrum Downs', 'Caulfield',\n",
       "       'Caulfield East', 'Caulfield North', 'Caulfield South',\n",
       "       'Chadstone', 'Chelsea', 'Chelsea Heights', 'Cheltenham',\n",
       "       'Chirnside Park', 'Clarinda', 'Clayton', 'Clayton South',\n",
       "       'Clifton Hill', 'Coburg', 'Coburg North', 'Collingwood',\n",
       "       'Coolaroo', 'Craigieburn', 'Cranbourne', 'Cranbourne North',\n",
       "       'Cremorne', 'Croydon', 'Croydon Hills', 'Croydon North',\n",
       "       'Croydon South', 'Dallas', 'Dandenong', 'Dandenong North',\n",
       "       'Deepdene', 'Deer Park', 'Delahey', 'Derrimut', 'Diamond Creek',\n",
       "       'Diggers Rest', 'Dingley Village', 'Docklands', 'Doncaster',\n",
       "       'Doncaster East', 'Donvale', 'Doreen', 'Doveton', 'Eaglemont',\n",
       "       'East Melbourne', 'Edithvale', 'Elsternwick', 'Eltham',\n",
       "       'Eltham North', 'Elwood', 'Emerald', 'Endeavour Hills', 'Epping',\n",
       "       'Essendon', 'Essendon North', 'Essendon West', 'Fairfield',\n",
       "       'Fawkner', 'Ferntree Gully', 'Fitzroy', 'Fitzroy North',\n",
       "       'Flemington', 'Footscray', 'Forest Hill', 'Frankston',\n",
       "       'Frankston North', 'Frankston South', 'Gardenvale', 'Gisborne',\n",
       "       'Gladstone Park', 'Glen Huntly', 'Glen Iris', 'Glen Waverley',\n",
       "       'Glenroy', 'Gowanbrae', 'Greensborough', 'Greenvale', 'Hadfield',\n",
       "       'Hallam', 'Hampton', 'Hampton East', 'Hampton Park', 'Hawthorn',\n",
       "       'Hawthorn East', 'Healesville', 'Heathmont', 'Heidelberg',\n",
       "       'Heidelberg Heights', 'Heidelberg West', 'Highett', 'Hillside',\n",
       "       'Hoppers Crossing', 'Hughesdale', 'Huntingdale', 'Hurstbridge',\n",
       "       'Ivanhoe', 'Ivanhoe East', 'Jacana', 'Kealba', 'Keilor',\n",
       "       'Keilor Downs', 'Keilor East', 'Keilor Lodge', 'Keilor Park',\n",
       "       'Kensington', 'Kew', 'Kew East', 'Keysborough', 'Kilsyth',\n",
       "       'Kings Park', 'Kingsbury', 'Kingsville', 'Knoxfield', 'Kooyong',\n",
       "       'Kurunjang', 'Lalor', 'Langwarrin', 'Lower Plenty', 'Maidstone',\n",
       "       'Malvern', 'Malvern East', 'Maribyrnong', 'McKinnon',\n",
       "       'Meadow Heights', 'Melbourne', 'Melton', 'Melton South',\n",
       "       'Melton West', 'Mentone', 'Mernda', 'Middle Park', 'Mill Park',\n",
       "       'Mitcham', 'Monbulk', 'Mont Albert', 'Montmorency', 'Montrose',\n",
       "       'Moonee Ponds', 'Moorabbin', 'Mooroolbark', 'Mordialloc',\n",
       "       'Mount Evelyn', 'Mount Waverley', 'Mulgrave', 'Murrumbeena',\n",
       "       'Narre Warren', 'New Gisborne', 'Newport', 'Niddrie', 'Noble Park',\n",
       "       'North Melbourne', 'North Warrandyte', 'Northcote', 'Notting Hill',\n",
       "       'Nunawading', 'Oak Park', 'Oakleigh', 'Oakleigh East',\n",
       "       'Oakleigh South', 'Officer', 'Ormond', 'Pakenham', 'Parkdale',\n",
       "       'Parkville', 'Pascoe Vale', 'Plumpton', 'Point Cook',\n",
       "       'Port Melbourne', 'Prahran', 'Preston', 'Princes Hill',\n",
       "       'Reservoir', 'Richmond', 'Riddells Creek', 'Ringwood',\n",
       "       'Ringwood East', 'Ringwood North', 'Ripponlea', 'Rockbank',\n",
       "       'Rosanna', 'Rowville', 'Roxburgh Park', 'Sandhurst', 'Sandringham',\n",
       "       'Scoresby', 'Seabrook', 'Seaford', 'Seaholme', 'Seddon', 'Silvan',\n",
       "       'Skye', 'South Kingsville', 'South Melbourne', 'South Morang',\n",
       "       'South Yarra', 'Southbank', 'Spotswood', 'Springvale',\n",
       "       'Springvale South', 'St Albans', 'St Helena', 'St Kilda',\n",
       "       'Strathmore', 'Strathmore Heights', 'Sunbury', 'Sunshine',\n",
       "       'Sunshine North', 'Sunshine West', 'Surrey Hills', 'Sydenham',\n",
       "       'Tarneit', 'Taylors Hill', 'Taylors Lakes', 'Templestowe',\n",
       "       'Templestowe Lower', 'The Basin', 'Thomastown', 'Thornbury',\n",
       "       'Toorak', 'Travancore', 'Truganina', 'Tullamarine', 'Upwey',\n",
       "       'Vermont', 'Vermont South', 'Viewbank', 'Wallan', 'Wantirna',\n",
       "       'Wantirna South', 'Warrandyte', 'Waterways', 'Watsonia',\n",
       "       'Watsonia North', 'Werribee', 'West Footscray', 'West Melbourne',\n",
       "       'Westmeadows', 'Wheelers Hill', 'Whittlesea', 'Williams Landing',\n",
       "       'Williamstown', 'Williamstown North', 'Windsor', 'Wollert',\n",
       "       'Wonga Park', 'Wyndham Vale', 'Yallambie', 'Yarra Glen',\n",
       "       'Yarraville'], dtype=object)"
      ]
     },
     "metadata": {},
     "execution_count": 5
    }
   ],
   "metadata": {}
  },
  {
   "cell_type": "code",
   "execution_count": 7,
   "source": [
    "# convert to lower case\r\n",
    "melb['Suburb'] = melb['Suburb'].str.lower()\r\n",
    "# remove trailing white spaces\r\n",
    "melb['Suburb'] = melb['Suburb'].str.strip()"
   ],
   "outputs": [],
   "metadata": {}
  },
  {
   "cell_type": "code",
   "execution_count": 8,
   "source": [
    "# Use fuzzy matching to correct inconsistent data entry"
   ],
   "outputs": [],
   "metadata": {}
  },
  {
   "cell_type": "code",
   "execution_count": 10,
   "source": [
    "# get all the unique values in the 'Country' column\r\n",
    "suburbs = melb['Suburb'].unique()\r\n",
    "\r\n",
    "# sort them alphabetically and then take a closer look\r\n",
    "suburbs.sort()\r\n",
    "suburbs"
   ],
   "outputs": [
    {
     "output_type": "execute_result",
     "data": {
      "text/plain": [
       "array(['abbotsford', 'aberfeldie', 'airport west', 'albanvale',\n",
       "       'albert park', 'albion', 'alphington', 'altona', 'altona meadows',\n",
       "       'altona north', 'ardeer', 'armadale', 'ascot vale', 'ashburton',\n",
       "       'ashwood', 'aspendale', 'aspendale gardens', 'attwood',\n",
       "       'avondale heights', 'bacchus marsh', 'balaclava', 'balwyn',\n",
       "       'balwyn north', 'bayswater', 'bayswater north', 'beaconsfield',\n",
       "       'beaconsfield upper', 'beaumaris', 'bellfield', 'bentleigh',\n",
       "       'bentleigh east', 'berwick', 'black rock', 'blackburn',\n",
       "       'blackburn north', 'blackburn south', 'bonbeach', 'boronia',\n",
       "       'box hill', 'braybrook', 'briar hill', 'brighton', 'brighton east',\n",
       "       'broadmeadows', 'brookfield', 'brooklyn', 'brunswick',\n",
       "       'brunswick east', 'brunswick west', 'bulleen', 'bullengarook',\n",
       "       'bundoora', 'burnley', 'burnside', 'burnside heights', 'burwood',\n",
       "       'burwood east', 'cairnlea', 'camberwell', 'campbellfield',\n",
       "       'canterbury', 'carlton', 'carlton north', 'carnegie',\n",
       "       'caroline springs', 'carrum', 'carrum downs', 'caulfield',\n",
       "       'caulfield east', 'caulfield north', 'caulfield south',\n",
       "       'chadstone', 'chelsea', 'chelsea heights', 'cheltenham',\n",
       "       'chirnside park', 'clarinda', 'clayton', 'clayton south',\n",
       "       'clifton hill', 'coburg', 'coburg north', 'collingwood',\n",
       "       'coolaroo', 'craigieburn', 'cranbourne', 'cranbourne north',\n",
       "       'cremorne', 'croydon', 'croydon hills', 'croydon north',\n",
       "       'croydon south', 'dallas', 'dandenong', 'dandenong north',\n",
       "       'deepdene', 'deer park', 'delahey', 'derrimut', 'diamond creek',\n",
       "       'diggers rest', 'dingley village', 'docklands', 'doncaster',\n",
       "       'doncaster east', 'donvale', 'doreen', 'doveton', 'eaglemont',\n",
       "       'east melbourne', 'edithvale', 'elsternwick', 'eltham',\n",
       "       'eltham north', 'elwood', 'emerald', 'endeavour hills', 'epping',\n",
       "       'essendon', 'essendon north', 'essendon west', 'fairfield',\n",
       "       'fawkner', 'ferntree gully', 'fitzroy', 'fitzroy north',\n",
       "       'flemington', 'footscray', 'forest hill', 'frankston',\n",
       "       'frankston north', 'frankston south', 'gardenvale', 'gisborne',\n",
       "       'gladstone park', 'glen huntly', 'glen iris', 'glen waverley',\n",
       "       'glenroy', 'gowanbrae', 'greensborough', 'greenvale', 'hadfield',\n",
       "       'hallam', 'hampton', 'hampton east', 'hampton park', 'hawthorn',\n",
       "       'hawthorn east', 'healesville', 'heathmont', 'heidelberg',\n",
       "       'heidelberg heights', 'heidelberg west', 'highett', 'hillside',\n",
       "       'hoppers crossing', 'hughesdale', 'huntingdale', 'hurstbridge',\n",
       "       'ivanhoe', 'ivanhoe east', 'jacana', 'kealba', 'keilor',\n",
       "       'keilor downs', 'keilor east', 'keilor lodge', 'keilor park',\n",
       "       'kensington', 'kew', 'kew east', 'keysborough', 'kilsyth',\n",
       "       'kings park', 'kingsbury', 'kingsville', 'knoxfield', 'kooyong',\n",
       "       'kurunjang', 'lalor', 'langwarrin', 'lower plenty', 'maidstone',\n",
       "       'malvern', 'malvern east', 'maribyrnong', 'mckinnon',\n",
       "       'meadow heights', 'melbourne', 'melton', 'melton south',\n",
       "       'melton west', 'mentone', 'mernda', 'middle park', 'mill park',\n",
       "       'mitcham', 'monbulk', 'mont albert', 'montmorency', 'montrose',\n",
       "       'moonee ponds', 'moorabbin', 'mooroolbark', 'mordialloc',\n",
       "       'mount evelyn', 'mount waverley', 'mulgrave', 'murrumbeena',\n",
       "       'narre warren', 'new gisborne', 'newport', 'niddrie', 'noble park',\n",
       "       'north melbourne', 'north warrandyte', 'northcote', 'notting hill',\n",
       "       'nunawading', 'oak park', 'oakleigh', 'oakleigh east',\n",
       "       'oakleigh south', 'officer', 'ormond', 'pakenham', 'parkdale',\n",
       "       'parkville', 'pascoe vale', 'plumpton', 'point cook',\n",
       "       'port melbourne', 'prahran', 'preston', 'princes hill',\n",
       "       'reservoir', 'richmond', 'riddells creek', 'ringwood',\n",
       "       'ringwood east', 'ringwood north', 'ripponlea', 'rockbank',\n",
       "       'rosanna', 'rowville', 'roxburgh park', 'sandhurst', 'sandringham',\n",
       "       'scoresby', 'seabrook', 'seaford', 'seaholme', 'seddon', 'silvan',\n",
       "       'skye', 'south kingsville', 'south melbourne', 'south morang',\n",
       "       'south yarra', 'southbank', 'spotswood', 'springvale',\n",
       "       'springvale south', 'st albans', 'st helena', 'st kilda',\n",
       "       'strathmore', 'strathmore heights', 'sunbury', 'sunshine',\n",
       "       'sunshine north', 'sunshine west', 'surrey hills', 'sydenham',\n",
       "       'tarneit', 'taylors hill', 'taylors lakes', 'templestowe',\n",
       "       'templestowe lower', 'the basin', 'thomastown', 'thornbury',\n",
       "       'toorak', 'travancore', 'truganina', 'tullamarine', 'upwey',\n",
       "       'vermont', 'vermont south', 'viewbank', 'wallan', 'wantirna',\n",
       "       'wantirna south', 'warrandyte', 'waterways', 'watsonia',\n",
       "       'watsonia north', 'werribee', 'west footscray', 'west melbourne',\n",
       "       'westmeadows', 'wheelers hill', 'whittlesea', 'williams landing',\n",
       "       'williamstown', 'williamstown north', 'windsor', 'wollert',\n",
       "       'wonga park', 'wyndham vale', 'yallambie', 'yarra glen',\n",
       "       'yarraville'], dtype=object)"
      ]
     },
     "metadata": {},
     "execution_count": 10
    }
   ],
   "metadata": {}
  },
  {
   "cell_type": "code",
   "execution_count": 11,
   "source": [
    "# get the top 10 closest matches to \"north\"\r\n",
    "matches = fuzzywuzzy.process.extract(\"north\", suburbs, limit=10, scorer=fuzzywuzzy.fuzz.token_sort_ratio)\r\n",
    "\r\n",
    "# take a look at them\r\n",
    "matches"
   ],
   "outputs": [
    {
     "output_type": "execute_result",
     "data": {
      "text/plain": [
       "[('northcote', 71),\n",
       " ('newport', 67),\n",
       " ('altona north', 59),\n",
       " ('balwyn north', 59),\n",
       " ('coburg north', 59),\n",
       " ('eltham north', 59),\n",
       " ('carlton north', 56),\n",
       " ('croydon north', 56),\n",
       " ('fitzroy north', 56),\n",
       " ('essendon north', 53)]"
      ]
     },
     "metadata": {},
     "execution_count": 11
    }
   ],
   "metadata": {}
  },
  {
   "cell_type": "code",
   "execution_count": null,
   "source": [],
   "outputs": [],
   "metadata": {}
  }
 ],
 "metadata": {
  "orig_nbformat": 4,
  "language_info": {
   "name": "python",
   "version": "3.8.8",
   "mimetype": "text/x-python",
   "codemirror_mode": {
    "name": "ipython",
    "version": 3
   },
   "pygments_lexer": "ipython3",
   "nbconvert_exporter": "python",
   "file_extension": ".py"
  },
  "kernelspec": {
   "name": "python3",
   "display_name": "Python 3.8.8 64-bit ('base': conda)"
  },
  "interpreter": {
   "hash": "a0f9931ccc041a018e08ac3afc72da254cd45458ab2ed488192720cc3e66859a"
  }
 },
 "nbformat": 4,
 "nbformat_minor": 2
}