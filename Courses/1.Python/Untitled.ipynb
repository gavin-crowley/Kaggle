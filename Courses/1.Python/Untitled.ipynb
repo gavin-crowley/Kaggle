{
 "cells": [
  {
   "cell_type": "code",
   "execution_count": 1,
   "id": "8c18e8c3",
   "metadata": {},
   "outputs": [],
   "source": [
    "nums = [1,2,3,7]"
   ]
  },
  {
   "cell_type": "code",
   "execution_count": 11,
   "id": "34092288",
   "metadata": {},
   "outputs": [
    {
     "ename": "SyntaxError",
     "evalue": "'return' outside function (<ipython-input-11-2601c5fa7110>, line 4)",
     "output_type": "error",
     "traceback": [
      "\u001b[1;36m  File \u001b[1;32m\"<ipython-input-11-2601c5fa7110>\"\u001b[1;36m, line \u001b[1;32m4\u001b[0m\n\u001b[1;33m    return True\u001b[0m\n\u001b[1;37m    ^\u001b[0m\n\u001b[1;31mSyntaxError\u001b[0m\u001b[1;31m:\u001b[0m 'return' outside function\n"
     ]
    }
   ],
   "source": [
    "for num in nums:\n",
    "    print(num)\n",
    "    if num % 7 == 0:\n",
    "        return True\n",
    "return False"
   ]
  },
  {
   "cell_type": "code",
   "execution_count": 12,
   "id": "ea6b9245",
   "metadata": {},
   "outputs": [
    {
     "name": "stdout",
     "output_type": "stream",
     "text": [
      "Help on built-in function any in module builtins:\n",
      "\n",
      "any(iterable, /)\n",
      "    Return True if bool(x) is True for any x in the iterable.\n",
      "    \n",
      "    If the iterable is empty, return False.\n",
      "\n"
     ]
    }
   ],
   "source": [
    "help(any)"
   ]
  },
  {
   "cell_type": "code",
   "execution_count": 13,
   "id": "26467885",
   "metadata": {},
   "outputs": [],
   "source": [
    "L = [1,2,3,4]"
   ]
  },
  {
   "cell_type": "code",
   "execution_count": 15,
   "id": "6df7e5c8",
   "metadata": {},
   "outputs": [],
   "source": [
    "thresh = 2"
   ]
  },
  {
   "cell_type": "code",
   "execution_count": 16,
   "id": "49607af0",
   "metadata": {},
   "outputs": [
    {
     "ename": "TypeError",
     "evalue": "'list' object cannot be interpreted as an integer",
     "output_type": "error",
     "traceback": [
      "\u001b[1;31m---------------------------------------------------------------------------\u001b[0m",
      "\u001b[1;31mTypeError\u001b[0m                                 Traceback (most recent call last)",
      "\u001b[1;32m<ipython-input-16-bce1949a987f>\u001b[0m in \u001b[0;36m<module>\u001b[1;34m\u001b[0m\n\u001b[1;32m----> 1\u001b[1;33m \u001b[0mrange\u001b[0m\u001b[1;33m(\u001b[0m\u001b[0mL\u001b[0m\u001b[1;33m)\u001b[0m\u001b[1;33m\u001b[0m\u001b[1;33m\u001b[0m\u001b[0m\n\u001b[0m",
      "\u001b[1;31mTypeError\u001b[0m: 'list' object cannot be interpreted as an integer"
     ]
    }
   ],
   "source": [
    "range(L)"
   ]
  },
  {
   "cell_type": "raw",
   "id": "72dc1cf6",
   "metadata": {},
   "source": [
    "[L for n in range(L) if thresh > 2 ]"
   ]
  },
  {
   "cell_type": "code",
   "execution_count": null,
   "id": "aa5902ce",
   "metadata": {},
   "outputs": [],
   "source": []
  }
 ],
 "metadata": {
  "kernelspec": {
   "display_name": "Python 3",
   "language": "python",
   "name": "python3"
  },
  "language_info": {
   "codemirror_mode": {
    "name": "ipython",
    "version": 3
   },
   "file_extension": ".py",
   "mimetype": "text/x-python",
   "name": "python",
   "nbconvert_exporter": "python",
   "pygments_lexer": "ipython3",
   "version": "3.8.8"
  }
 },
 "nbformat": 4,
 "nbformat_minor": 5
}
