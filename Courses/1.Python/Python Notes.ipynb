{
 "cells": [
  {
   "cell_type": "code",
   "execution_count": null,
   "id": "7048c077",
   "metadata": {},
   "outputs": [],
   "source": [
    "a, b = b, a\n",
    "#We'll demystify this bit of Python magic later when we talk about tuples.\n"
   ]
  },
  {
   "cell_type": "code",
   "execution_count": null,
   "id": "7170e3f9",
   "metadata": {},
   "outputs": [],
   "source": [
    "#We've already seen two examples of this: print() and help() don't return anything. We only call them for their side effects (putting some text on the screen). Other examples of useful side effects include writing to a file, or modifying an input."
   ]
  },
  {
   "cell_type": "code",
   "execution_count": 5,
   "id": "bad5dbfd",
   "metadata": {},
   "outputs": [],
   "source": [
    "planets = ['Mercury', 'Venus', 'Earth', 'Mars', 'Jupiter', 'Saturn', 'Uranus', 'Neptune']"
   ]
  },
  {
   "cell_type": "code",
   "execution_count": 6,
   "id": "3d873363",
   "metadata": {},
   "outputs": [
    {
     "data": {
      "text/plain": [
       "['Venus', 'Earth', 'Mars', 'Jupiter', 'Saturn', 'Uranus']"
      ]
     },
     "execution_count": 6,
     "metadata": {},
     "output_type": "execute_result"
    }
   ],
   "source": [
    "# All the planets except the first and last\n",
    "planets[1:-1]"
   ]
  },
  {
   "cell_type": "code",
   "execution_count": 7,
   "id": "88869b04",
   "metadata": {},
   "outputs": [
    {
     "data": {
      "text/plain": [
       "['Saturn', 'Uranus', 'Neptune']"
      ]
     },
     "execution_count": 7,
     "metadata": {},
     "output_type": "execute_result"
    }
   ],
   "source": [
    "# The last 3 planets\n",
    "planets[-3:]"
   ]
  },
  {
   "cell_type": "code",
   "execution_count": 8,
   "id": "0da67b51",
   "metadata": {},
   "outputs": [],
   "source": [
    "# Lists are \"mutable\", meaning they can be modified \"in place\".\n",
    "\n",
    "# One way to modify a list is to assign to an index or slice expression."
   ]
  },
  {
   "cell_type": "code",
   "execution_count": 9,
   "id": "bfceb389",
   "metadata": {},
   "outputs": [],
   "source": [
    "#list.pop removes and returns the last element of a list:"
   ]
  },
  {
   "cell_type": "code",
   "execution_count": 10,
   "id": "1ae5f466",
   "metadata": {},
   "outputs": [],
   "source": [
    "#Tuples are often used for functions that have multiple return values."
   ]
  },
  {
   "cell_type": "code",
   "execution_count": null,
   "id": "6e025310",
   "metadata": {},
   "outputs": [],
   "source": [
    "teams[-1][1]\n",
    "# gives the second item in the last list"
   ]
  },
  {
   "cell_type": "code",
   "execution_count": 18,
   "id": "ccb5f1fa",
   "metadata": {},
   "outputs": [],
   "source": [
    "a = [\"Ann\", \"Barry\", \"Tom\"]"
   ]
  },
  {
   "cell_type": "code",
   "execution_count": 19,
   "id": "98cd7218",
   "metadata": {},
   "outputs": [
    {
     "data": {
      "text/plain": [
       "0"
      ]
     },
     "execution_count": 19,
     "metadata": {},
     "output_type": "execute_result"
    }
   ],
   "source": [
    "a.index(\"Ann\")"
   ]
  },
  {
   "cell_type": "code",
   "execution_count": 21,
   "id": "75ac963b",
   "metadata": {},
   "outputs": [
    {
     "data": {
      "text/plain": [
       "1.5"
      ]
     },
     "execution_count": 21,
     "metadata": {},
     "output_type": "execute_result"
    }
   ],
   "source": [
    "len(a)/2"
   ]
  },
  {
   "cell_type": "code",
   "execution_count": 23,
   "id": "80a946a4",
   "metadata": {},
   "outputs": [
    {
     "data": {
      "text/plain": [
       "'Tom'"
      ]
     },
     "execution_count": 23,
     "metadata": {},
     "output_type": "execute_result"
    }
   ],
   "source": [
    "a[-1]"
   ]
  },
  {
   "cell_type": "code",
   "execution_count": null,
   "id": "cd421e83",
   "metadata": {},
   "outputs": [],
   "source": []
  }
 ],
 "metadata": {
  "kernelspec": {
   "display_name": "Python 3",
   "language": "python",
   "name": "python3"
  },
  "language_info": {
   "codemirror_mode": {
    "name": "ipython",
    "version": 3
   },
   "file_extension": ".py",
   "mimetype": "text/x-python",
   "name": "python",
   "nbconvert_exporter": "python",
   "pygments_lexer": "ipython3",
   "version": "3.8.8"
  }
 },
 "nbformat": 4,
 "nbformat_minor": 5
}
